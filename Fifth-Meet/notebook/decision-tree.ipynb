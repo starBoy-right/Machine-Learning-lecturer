{
 "cells": [
  {
   "cell_type": "code",
   "execution_count": 4,
   "id": "fac165ae",
   "metadata": {},
   "outputs": [],
   "source": [
    "import pandas as pd\n",
    "import numpy as np\n"
   ]
  },
  {
   "cell_type": "code",
   "execution_count": 5,
   "id": "11fc948c",
   "metadata": {},
   "outputs": [],
   "source": [
    "df = pd.read_csv('../data/stunting_wasting_dataset.csv')"
   ]
  },
  {
   "cell_type": "code",
   "execution_count": 6,
   "id": "bdfef568",
   "metadata": {},
   "outputs": [
    {
     "data": {
      "text/html": [
       "<div>\n",
       "<style scoped>\n",
       "    .dataframe tbody tr th:only-of-type {\n",
       "        vertical-align: middle;\n",
       "    }\n",
       "\n",
       "    .dataframe tbody tr th {\n",
       "        vertical-align: top;\n",
       "    }\n",
       "\n",
       "    .dataframe thead th {\n",
       "        text-align: right;\n",
       "    }\n",
       "</style>\n",
       "<table border=\"1\" class=\"dataframe\">\n",
       "  <thead>\n",
       "    <tr style=\"text-align: right;\">\n",
       "      <th></th>\n",
       "      <th>Jenis Kelamin</th>\n",
       "      <th>Umur (bulan)</th>\n",
       "      <th>Tinggi Badan (cm)</th>\n",
       "      <th>Berat Badan (kg)</th>\n",
       "      <th>Stunting</th>\n",
       "      <th>Wasting</th>\n",
       "    </tr>\n",
       "  </thead>\n",
       "  <tbody>\n",
       "    <tr>\n",
       "      <th>0</th>\n",
       "      <td>Laki-laki</td>\n",
       "      <td>19</td>\n",
       "      <td>91.6</td>\n",
       "      <td>13.3</td>\n",
       "      <td>Tall</td>\n",
       "      <td>Risk of Overweight</td>\n",
       "    </tr>\n",
       "    <tr>\n",
       "      <th>1</th>\n",
       "      <td>Laki-laki</td>\n",
       "      <td>20</td>\n",
       "      <td>77.7</td>\n",
       "      <td>8.5</td>\n",
       "      <td>Stunted</td>\n",
       "      <td>Underweight</td>\n",
       "    </tr>\n",
       "    <tr>\n",
       "      <th>2</th>\n",
       "      <td>Laki-laki</td>\n",
       "      <td>10</td>\n",
       "      <td>79.0</td>\n",
       "      <td>10.3</td>\n",
       "      <td>Normal</td>\n",
       "      <td>Risk of Overweight</td>\n",
       "    </tr>\n",
       "    <tr>\n",
       "      <th>3</th>\n",
       "      <td>Perempuan</td>\n",
       "      <td>2</td>\n",
       "      <td>50.3</td>\n",
       "      <td>8.3</td>\n",
       "      <td>Severely Stunted</td>\n",
       "      <td>Risk of Overweight</td>\n",
       "    </tr>\n",
       "    <tr>\n",
       "      <th>4</th>\n",
       "      <td>Perempuan</td>\n",
       "      <td>5</td>\n",
       "      <td>56.4</td>\n",
       "      <td>10.9</td>\n",
       "      <td>Severely Stunted</td>\n",
       "      <td>Risk of Overweight</td>\n",
       "    </tr>\n",
       "  </tbody>\n",
       "</table>\n",
       "</div>"
      ],
      "text/plain": [
       "  Jenis Kelamin  Umur (bulan)  Tinggi Badan (cm)  Berat Badan (kg)  \\\n",
       "0     Laki-laki            19               91.6              13.3   \n",
       "1     Laki-laki            20               77.7               8.5   \n",
       "2     Laki-laki            10               79.0              10.3   \n",
       "3     Perempuan             2               50.3               8.3   \n",
       "4     Perempuan             5               56.4              10.9   \n",
       "\n",
       "           Stunting             Wasting  \n",
       "0              Tall  Risk of Overweight  \n",
       "1           Stunted         Underweight  \n",
       "2            Normal  Risk of Overweight  \n",
       "3  Severely Stunted  Risk of Overweight  \n",
       "4  Severely Stunted  Risk of Overweight  "
      ]
     },
     "execution_count": 6,
     "metadata": {},
     "output_type": "execute_result"
    }
   ],
   "source": [
    "df.head()"
   ]
  },
  {
   "cell_type": "code",
   "execution_count": 7,
   "id": "1e06260d",
   "metadata": {},
   "outputs": [
    {
     "name": "stdout",
     "output_type": "stream",
     "text": [
      "<class 'pandas.core.frame.DataFrame'>\n",
      "RangeIndex: 100000 entries, 0 to 99999\n",
      "Data columns (total 6 columns):\n",
      " #   Column             Non-Null Count   Dtype  \n",
      "---  ------             --------------   -----  \n",
      " 0   Jenis Kelamin      100000 non-null  object \n",
      " 1   Umur (bulan)       100000 non-null  int64  \n",
      " 2   Tinggi Badan (cm)  100000 non-null  float64\n",
      " 3   Berat Badan (kg)   100000 non-null  float64\n",
      " 4   Stunting           100000 non-null  object \n",
      " 5   Wasting            100000 non-null  object \n",
      "dtypes: float64(2), int64(1), object(3)\n",
      "memory usage: 4.6+ MB\n"
     ]
    }
   ],
   "source": [
    "df.info()"
   ]
  },
  {
   "cell_type": "code",
   "execution_count": 8,
   "id": "13844966",
   "metadata": {},
   "outputs": [
    {
     "data": {
      "text/plain": [
       "np.int64(7308)"
      ]
     },
     "execution_count": 8,
     "metadata": {},
     "output_type": "execute_result"
    }
   ],
   "source": [
    "df.duplicated().sum()"
   ]
  },
  {
   "cell_type": "code",
   "execution_count": 9,
   "id": "b574e658",
   "metadata": {},
   "outputs": [],
   "source": [
    "df.drop_duplicates(inplace=True)"
   ]
  },
  {
   "cell_type": "code",
   "execution_count": 10,
   "id": "0edff475",
   "metadata": {},
   "outputs": [],
   "source": [
    "stunting_cat = df['Stunting'].astype('category')\n",
    "stunting_classes = list(stunting_cat.cat.categories)  # urutan kelas\n",
    "df['Stunting'] = stunting_cat.cat.codes               # y numerik\n",
    "\n",
    "\n"
   ]
  },
  {
   "cell_type": "code",
   "execution_count": 14,
   "id": "6d24a80b",
   "metadata": {},
   "outputs": [],
   "source": [
    "for col in ['Jenis Kelamin', 'Wasting']:\n",
    "    if col in df.columns:\n",
    "        df[col] = df[col].astype('category').cat.codes\n"
   ]
  },
  {
   "cell_type": "code",
   "execution_count": 15,
   "id": "8ff1a01c",
   "metadata": {},
   "outputs": [
    {
     "data": {
      "text/html": [
       "<div>\n",
       "<style scoped>\n",
       "    .dataframe tbody tr th:only-of-type {\n",
       "        vertical-align: middle;\n",
       "    }\n",
       "\n",
       "    .dataframe tbody tr th {\n",
       "        vertical-align: top;\n",
       "    }\n",
       "\n",
       "    .dataframe thead th {\n",
       "        text-align: right;\n",
       "    }\n",
       "</style>\n",
       "<table border=\"1\" class=\"dataframe\">\n",
       "  <thead>\n",
       "    <tr style=\"text-align: right;\">\n",
       "      <th></th>\n",
       "      <th>Jenis Kelamin</th>\n",
       "      <th>Umur (bulan)</th>\n",
       "      <th>Tinggi Badan (cm)</th>\n",
       "      <th>Berat Badan (kg)</th>\n",
       "      <th>Stunting</th>\n",
       "      <th>Wasting</th>\n",
       "    </tr>\n",
       "  </thead>\n",
       "  <tbody>\n",
       "    <tr>\n",
       "      <th>0</th>\n",
       "      <td>0</td>\n",
       "      <td>19</td>\n",
       "      <td>91.6</td>\n",
       "      <td>13.3</td>\n",
       "      <td>3</td>\n",
       "      <td>1</td>\n",
       "    </tr>\n",
       "    <tr>\n",
       "      <th>1</th>\n",
       "      <td>0</td>\n",
       "      <td>20</td>\n",
       "      <td>77.7</td>\n",
       "      <td>8.5</td>\n",
       "      <td>2</td>\n",
       "      <td>3</td>\n",
       "    </tr>\n",
       "    <tr>\n",
       "      <th>2</th>\n",
       "      <td>0</td>\n",
       "      <td>10</td>\n",
       "      <td>79.0</td>\n",
       "      <td>10.3</td>\n",
       "      <td>0</td>\n",
       "      <td>1</td>\n",
       "    </tr>\n",
       "    <tr>\n",
       "      <th>3</th>\n",
       "      <td>1</td>\n",
       "      <td>2</td>\n",
       "      <td>50.3</td>\n",
       "      <td>8.3</td>\n",
       "      <td>1</td>\n",
       "      <td>1</td>\n",
       "    </tr>\n",
       "    <tr>\n",
       "      <th>4</th>\n",
       "      <td>1</td>\n",
       "      <td>5</td>\n",
       "      <td>56.4</td>\n",
       "      <td>10.9</td>\n",
       "      <td>1</td>\n",
       "      <td>1</td>\n",
       "    </tr>\n",
       "  </tbody>\n",
       "</table>\n",
       "</div>"
      ],
      "text/plain": [
       "   Jenis Kelamin  Umur (bulan)  Tinggi Badan (cm)  Berat Badan (kg)  Stunting  \\\n",
       "0              0            19               91.6              13.3         3   \n",
       "1              0            20               77.7               8.5         2   \n",
       "2              0            10               79.0              10.3         0   \n",
       "3              1             2               50.3               8.3         1   \n",
       "4              1             5               56.4              10.9         1   \n",
       "\n",
       "   Wasting  \n",
       "0        1  \n",
       "1        3  \n",
       "2        1  \n",
       "3        1  \n",
       "4        1  "
      ]
     },
     "execution_count": 15,
     "metadata": {},
     "output_type": "execute_result"
    }
   ],
   "source": [
    "df.head()"
   ]
  },
  {
   "cell_type": "code",
   "execution_count": null,
   "id": "cc37235d",
   "metadata": {},
   "outputs": [],
   "source": []
  }
 ],
 "metadata": {
  "kernelspec": {
   "display_name": "my-env (3.13.7)",
   "language": "python",
   "name": "python3"
  },
  "language_info": {
   "codemirror_mode": {
    "name": "ipython",
    "version": 3
   },
   "file_extension": ".py",
   "mimetype": "text/x-python",
   "name": "python",
   "nbconvert_exporter": "python",
   "pygments_lexer": "ipython3",
   "version": "3.13.7"
  }
 },
 "nbformat": 4,
 "nbformat_minor": 5
}
