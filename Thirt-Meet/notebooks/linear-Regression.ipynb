{
 "cells": [
  {
   "cell_type": "code",
   "execution_count": 1,
   "id": "615c1b01",
   "metadata": {},
   "outputs": [],
   "source": [
    "import pandas as pd"
   ]
  },
  {
   "cell_type": "code",
   "execution_count": 2,
   "id": "b25ba79c",
   "metadata": {},
   "outputs": [],
   "source": [
    "df = pd.read_csv('/Users/a/Programming/Machine-Learning-Folder/Thirt-Meet/data/socr.csv')"
   ]
  },
  {
   "cell_type": "code",
   "execution_count": 3,
   "id": "6cf8440e",
   "metadata": {},
   "outputs": [
    {
     "data": {
      "text/html": [
       "<div>\n",
       "<style scoped>\n",
       "    .dataframe tbody tr th:only-of-type {\n",
       "        vertical-align: middle;\n",
       "    }\n",
       "\n",
       "    .dataframe tbody tr th {\n",
       "        vertical-align: top;\n",
       "    }\n",
       "\n",
       "    .dataframe thead th {\n",
       "        text-align: right;\n",
       "    }\n",
       "</style>\n",
       "<table border=\"1\" class=\"dataframe\">\n",
       "  <thead>\n",
       "    <tr style=\"text-align: right;\">\n",
       "      <th></th>\n",
       "      <th>Index</th>\n",
       "      <th>Height(Inches)</th>\n",
       "      <th>Weight(Pounds)</th>\n",
       "    </tr>\n",
       "  </thead>\n",
       "  <tbody>\n",
       "    <tr>\n",
       "      <th>10987</th>\n",
       "      <td>10988</td>\n",
       "      <td>66.02316</td>\n",
       "      <td>113.8072</td>\n",
       "    </tr>\n",
       "    <tr>\n",
       "      <th>17445</th>\n",
       "      <td>17446</td>\n",
       "      <td>70.41624</td>\n",
       "      <td>148.9906</td>\n",
       "    </tr>\n",
       "    <tr>\n",
       "      <th>7265</th>\n",
       "      <td>7266</td>\n",
       "      <td>67.00659</td>\n",
       "      <td>136.9352</td>\n",
       "    </tr>\n",
       "    <tr>\n",
       "      <th>7548</th>\n",
       "      <td>7549</td>\n",
       "      <td>69.97731</td>\n",
       "      <td>147.2286</td>\n",
       "    </tr>\n",
       "    <tr>\n",
       "      <th>18665</th>\n",
       "      <td>18666</td>\n",
       "      <td>67.97208</td>\n",
       "      <td>111.8923</td>\n",
       "    </tr>\n",
       "  </tbody>\n",
       "</table>\n",
       "</div>"
      ],
      "text/plain": [
       "       Index  Height(Inches)  Weight(Pounds)\n",
       "10987  10988        66.02316        113.8072\n",
       "17445  17446        70.41624        148.9906\n",
       "7265    7266        67.00659        136.9352\n",
       "7548    7549        69.97731        147.2286\n",
       "18665  18666        67.97208        111.8923"
      ]
     },
     "execution_count": 3,
     "metadata": {},
     "output_type": "execute_result"
    }
   ],
   "source": [
    "df.sample(5)"
   ]
  },
  {
   "cell_type": "code",
   "execution_count": 4,
   "id": "8c771c05",
   "metadata": {},
   "outputs": [
    {
     "name": "stdout",
     "output_type": "stream",
     "text": [
      "<class 'pandas.core.frame.DataFrame'>\n",
      "RangeIndex: 25000 entries, 0 to 24999\n",
      "Data columns (total 3 columns):\n",
      " #   Column          Non-Null Count  Dtype  \n",
      "---  ------          --------------  -----  \n",
      " 0   Index           25000 non-null  int64  \n",
      " 1   Height(Inches)  25000 non-null  float64\n",
      " 2   Weight(Pounds)  25000 non-null  float64\n",
      "dtypes: float64(2), int64(1)\n",
      "memory usage: 586.1 KB\n"
     ]
    }
   ],
   "source": [
    "df.info()"
   ]
  },
  {
   "cell_type": "code",
   "execution_count": null,
   "id": "2ab08968",
   "metadata": {},
   "outputs": [],
   "source": [
    "df['Height(Inches)'] = df['Height(Inches)'] * 2.54?\n",
    "df['Weight(Pounds)'] = df['Weight(Pounds)'] * 0.45\n"
   ]
  },
  {
   "cell_type": "code",
   "execution_count": 7,
   "id": "b5d2d1ba",
   "metadata": {},
   "outputs": [
    {
     "data": {
      "text/plain": [
       "0        167.089607\n",
       "1        181.648633\n",
       "2        176.272800\n",
       "3        173.270164\n",
       "4        172.181037\n",
       "            ...    \n",
       "24995    176.535461\n",
       "24996    163.952580\n",
       "24997    164.334317\n",
       "24998    171.524117\n",
       "24999    174.949129\n",
       "Name: Height(Inches), Length: 25000, dtype: float64"
      ]
     },
     "execution_count": 7,
     "metadata": {},
     "output_type": "execute_result"
    }
   ],
   "source": [
    "df['Height(Inches)']"
   ]
  },
  {
   "cell_type": "code",
   "execution_count": 9,
   "id": "6afbf08c",
   "metadata": {},
   "outputs": [],
   "source": [
    "df = df.rename(columns={'Weight(Pounds)': 'Berat', 'Height(Inches)':'Tinggi'})"
   ]
  },
  {
   "cell_type": "code",
   "execution_count": null,
   "id": "a4fcc1c0",
   "metadata": {},
   "outputs": [],
   "source": [
    "from sklearn import linear_model\n",
    "fro"
   ]
  },
  {
   "cell_type": "code",
   "execution_count": null,
   "id": "7154a6ba",
   "metadata": {},
   "outputs": [],
   "source": []
  }
 ],
 "metadata": {
  "kernelspec": {
   "display_name": "my-env (3.13.7)",
   "language": "python",
   "name": "python3"
  },
  "language_info": {
   "codemirror_mode": {
    "name": "ipython",
    "version": 3
   },
   "file_extension": ".py",
   "mimetype": "text/x-python",
   "name": "python",
   "nbconvert_exporter": "python",
   "pygments_lexer": "ipython3",
   "version": "3.13.7"
  }
 },
 "nbformat": 4,
 "nbformat_minor": 5
}
